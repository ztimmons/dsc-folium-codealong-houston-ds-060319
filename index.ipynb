{
 "cells": [
  {
   "cell_type": "markdown",
   "metadata": {},
   "source": [
    "# Folium - Codealong\n",
    "\n",
    "## Introduction \n",
    "\n",
    "In this codealong, we'll take a look at how to create an interactive map using the Folium package. From there, we'll return to APIs in the final lab for the day where you'll make an interactive map from your requests to the API!\n",
    "\n",
    "## Objectives\n",
    "\n",
    "You will be able to: \n",
    "* Create maps with Folium"
   ]
  },
  {
   "cell_type": "markdown",
   "metadata": {},
   "source": [
    "## Creating a Basemap\n",
    "\n",
    "Here we'll take a look at creating a basemap over the London region!"
   ]
  },
  {
   "cell_type": "code",
   "execution_count": 1,
   "metadata": {
    "scrolled": false
   },
   "outputs": [
    {
     "data": {
      "text/html": [
       "<div style=\"width:100%;\"><div style=\"position:relative;width:100%;height:0;padding-bottom:60%;\"><iframe src=\"data:text/html;charset=utf-8;base64,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\" style=\"position:absolute;width:100%;height:100%;left:0;top:0;border:none !important;\" allowfullscreen webkitallowfullscreen mozallowfullscreen></iframe></div></div>"
      ],
      "text/plain": [
       "<folium.folium.Map at 0x7fe58c0c0cc0>"
      ]
     },
     "execution_count": 1,
     "metadata": {},
     "output_type": "execute_result"
    }
   ],
   "source": [
    "import folium\n",
    "\n",
    "lat = 51.51\n",
    "long = -0.14\n",
    "\n",
    "#Create a map of the area\n",
    "base_map = folium.Map([lat, long], zoom_start=15)\n",
    "base_map"
   ]
  },
  {
   "cell_type": "markdown",
   "metadata": {},
   "source": [
    "## Adding Markers to the Map\n",
    "\n",
    "Great! Now let's take a look at adding little markers to our map!\n",
    "\n",
    "**Note:** you may have to zoom out to see all of the markers!"
   ]
  },
  {
   "cell_type": "code",
   "execution_count": 2,
   "metadata": {},
   "outputs": [
    {
     "data": {
      "text/html": [
       "<div style=\"width:100%;\"><div style=\"position:relative;width:100%;height:0;padding-bottom:60%;\"><iframe src=\"data:text/html;charset=utf-8;base64,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\" style=\"position:absolute;width:100%;height:100%;left:0;top:0;border:none !important;\" allowfullscreen webkitallowfullscreen mozallowfullscreen></iframe></div></div>"
      ],
      "text/plain": [
       "<folium.folium.Map at 0x7fe58c0c0cc0>"
      ]
     },
     "execution_count": 2,
     "metadata": {},
     "output_type": "execute_result"
    }
   ],
   "source": [
    "import numpy as np\n",
    "\n",
    "#Generate some random locations to add to our map\n",
    "x = [lat + np.random.uniform(-.1,.1) for i in range(20)]\n",
    "y = [long + np.random.uniform(-.1,.1) for i in range(20)]\n",
    "points = list(zip(x, y))\n",
    "for p in points:\n",
    "    lat = p[0]\n",
    "    long = p[1]\n",
    "    marker = folium.Marker(location=[lat, long])\n",
    "    marker.add_to(base_map)\n",
    "base_map"
   ]
  },
  {
   "cell_type": "markdown",
   "metadata": {},
   "source": [
    "## Adding Pop-up Boxes to Our Markers\n",
    "\n",
    "Often we may wish to not only place markers on the map, but to create interactive pop-ups which display information to that location. To do this, we can add a popup to our markers when adding them to the map! "
   ]
  },
  {
   "cell_type": "code",
   "execution_count": null,
   "metadata": {},
   "outputs": [],
   "source": [
    "for p in points:\n",
    "    lat = p[0]\n",
    "    long = p[1]\n",
    "    popup_text = \"Latitude: {}, Longitude: {}\".format(lat,long)\n",
    "    popup = folium.Popup(popup_text, parse_html=True)\n",
    "    marker = folium.Marker(location=[lat, long], popup=popup)\n",
    "    marker.add_to(base_map)\n",
    "base_map"
   ]
  },
  {
   "cell_type": "markdown",
   "metadata": {},
   "source": [
    "Now, if you click on the map markers, you should see a little information box pop up!\n",
    "\n",
    "## Summary \n",
    "\n",
    "In this codealong, we learned how to use Folium to create some cool interactive maps with only a few lines of python code! In the next lab, you'll synthesize your skills for the day together and create an interactive visualization map for data you retrieve from the Yelp API!"
   ]
  }
 ],
 "metadata": {
  "kernelspec": {
   "display_name": "Python 3",
   "language": "python",
   "name": "python3"
  },
  "language_info": {
   "codemirror_mode": {
    "name": "ipython",
    "version": 3
   },
   "file_extension": ".py",
   "mimetype": "text/x-python",
   "name": "python",
   "nbconvert_exporter": "python",
   "pygments_lexer": "ipython3",
   "version": "3.6.6"
  }
 },
 "nbformat": 4,
 "nbformat_minor": 2
}
