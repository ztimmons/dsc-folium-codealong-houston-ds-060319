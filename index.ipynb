{
 "cells": [
  {
   "cell_type": "markdown",
   "metadata": {},
   "source": [
    "# Folium - Codealong\n",
    "\n",
    "## Introduction \n",
    "\n",
    "In this codealong, we'll take a look at how to create an interactive map using the Folium package. From there, we'll return to APIs in the final lab for the day where you'll make an interactive map from your requests to the API!\n",
    "\n",
    "## Objectives\n",
    "\n",
    "You will be able to: \n",
    "* Create maps with Folium"
   ]
  },
  {
   "cell_type": "markdown",
   "metadata": {},
   "source": [
    "## Creating a Basemap\n",
    "\n",
    "Here we'll take a look at creating a basemap over the London region!"
   ]
  },
  {
   "cell_type": "code",
   "execution_count": 1,
   "metadata": {
    "scrolled": false
   },
   "outputs": [
    {
     "data": {
      "text/html": [
       "<div style=\"width:100%;\"><div style=\"position:relative;width:100%;height:0;padding-bottom:60%;\"><iframe src=\"data:text/html;charset=utf-8;base64,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\" style=\"position:absolute;width:100%;height:100%;left:0;top:0;border:none !important;\" allowfullscreen webkitallowfullscreen mozallowfullscreen></iframe></div></div>"
      ],
      "text/plain": [
       "<folium.folium.Map at 0x7fe58c0c0cc0>"
      ]
     },
     "execution_count": 1,
     "metadata": {},
     "output_type": "execute_result"
    }
   ],
   "source": [
    "import folium\n",
    "\n",
    "lat = 51.51\n",
    "long = -0.14\n",
    "\n",
    "#Create a map of the area\n",
    "base_map = folium.Map([lat, long], zoom_start=15)\n",
    "base_map"
   ]
  },
  {
   "cell_type": "markdown",
   "metadata": {},
   "source": [
    "## Adding Markers to the Map\n",
    "\n",
    "Great! Now let's take a look at adding little markers to our map!\n",
    "\n",
    "**Note:** you may have to zoom out to see all of the markers!"
   ]
  },
  {
   "cell_type": "code",
   "execution_count": 4,
   "metadata": {},
   "outputs": [
    {
     "data": {
      "text/html": [
       "<div style=\"width:100%;\"><div style=\"position:relative;width:100%;height:0;padding-bottom:60%;\"><iframe src=\"data:text/html;charset=utf-8;base64,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\" style=\"position:absolute;width:100%;height:100%;left:0;top:0;border:none !important;\" allowfullscreen webkitallowfullscreen mozallowfullscreen></iframe></div></div>"
      ],
      "text/plain": [
       "<folium.folium.Map at 0x7efea3d0c940>"
      ]
     },
     "execution_count": 4,
     "metadata": {},
     "output_type": "execute_result"
    }
   ],
   "source": [
    "import numpy as np\n",
    "\n",
    "#Generate some random locations to add to our map\n",
    "x = [lat + np.random.uniform(-.1,.1) for i in range(20)]\n",
    "y = [long + np.random.uniform(-.1,.1) for i in range(20)]\n",
    "points = list(zip(x, y))\n",
    "for p in points:\n",
    "    lat = p[0]\n",
    "    long = p[1]\n",
    "    marker = folium.Marker(location=[lat, long])\n",
    "    marker.add_to(base_map)\n",
    "base_map"
   ]
  },
  {
   "cell_type": "markdown",
   "metadata": {},
   "source": [
    "## Adding Pop-up Boxes to Our Markers\n",
    "\n",
    "Often we may wish to not only place markers on the map, but to create interactive pop-ups which display information to that location. To do this, we can add a popup to our markers when adding them to the map! "
   ]
  },
  {
   "cell_type": "code",
   "execution_count": null,
   "metadata": {},
   "outputs": [],
   "source": [
    "for p in points:\n",
    "    lat = p[0]\n",
    "    long = p[1]\n",
    "    popup_text = \"Latitude: {}, Longitude: {}\".format(lat,long)\n",
    "    popup = folium.Popup(popup_text, parse_html=True)\n",
    "    marker = folium.Marker(location=[lat, long], popup=popup)\n",
    "    marker.add_to(base_map)\n",
    "base_map"
   ]
  },
  {
   "cell_type": "markdown",
   "metadata": {},
   "source": [
    "Now, if you click on the map markers, you should see a little information box pop up!\n",
    "\n",
    "## Summary \n",
    "\n",
    "In this codealong, we learned how to use Folium to create some cool interactive maps with only a few lines of python code! In the next lab, you'll synthesize your skills for the day together and create an interactive visualization map for data you retrieve from the Yelp API!"
   ]
  }
 ],
 "metadata": {
  "kernelspec": {
   "display_name": "Python 3",
   "language": "python",
   "name": "python3"
  },
  "language_info": {
   "codemirror_mode": {
    "name": "ipython",
    "version": 3
   },
   "file_extension": ".py",
   "mimetype": "text/x-python",
   "name": "python",
   "nbconvert_exporter": "python",
   "pygments_lexer": "ipython3",
   "version": "3.6.6"
  }
 },
 "nbformat": 4,
 "nbformat_minor": 2
}
